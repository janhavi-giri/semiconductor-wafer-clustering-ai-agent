{
 "cells": [
  {
   "cell_type": "markdown",
   "metadata": {},
   "source": [
    "# Quick Start - Semiconductor Wafer Clustering Agent\n",
    "\n",
    "This notebook provides a quick introduction to using the Semiconductor Wafer Clustering Agent.\n",
    "\n",
    "## Overview\n",
    "- Initialize the agent with your OpenAI API key\n",
    "- Load or generate wafer data\n",
    "- Analyze using natural language queries\n",
    "- Visualize results"
   ]
  },
  {
   "cell_type": "markdown",
   "metadata": {},
   "source": [
    "## 1. Setup and Installation"
   ]
  },
  {
   "cell_type": "code",
   "execution_count": null,
   "metadata": {},
   "outputs": [],
   "source": [
    "# If running in Google Colab, install dependencies\n",
    "import sys\n",
    "if 'google.colab' in sys.modules:\n",
    "    !pip install langchain langchain-openai gradio pandas numpy scikit-learn matplotlib seaborn -q\n",
    "    print(\"✅ Dependencies installed for Colab\")\n",
    "else:\n",
    "    print(\"📌 Make sure you have installed requirements: pip install -r requirements.txt\")"
   ]
  },
  {
   "cell_type": "code",
   "execution_count": null,
   "metadata": {},
   "outputs": [],
   "source": [
    "# Import necessary libraries\n",
    "import os\n",
    "import sys\n",
    "import pandas as pd\n",
    "import numpy as np\n",
    "import matplotlib.pyplot as plt\n",
    "import warnings\n",
    "warnings.filterwarnings('ignore')\n",
    "\n",
    "# Add parent directory to path to import src modules\n",
    "if 'google.colab' in sys.modules:\n",
    "    # For Colab, we'll define the agent directly in this notebook\n",
    "    print(\"Running in Google Colab\")\n",
    "else:\n",
    "    # For local development\n",
    "    sys.path.append(os.path.dirname(os.path.dirname(os.path.abspath(\"__file__\"))))\n",
    "    from src.agent import WaferClusteringAgent"
   ]
  },
  {
   "cell_type": "markdown",
   "metadata": {},
   "source": [
    "## 2. Initialize the Agent"
   ]
  },
  {
   "cell_type": "code",
   "execution_count": null,
   "metadata": {},
   "outputs": [],
   "source": [
    "# Set your OpenAI API key\n",
    "# Option 1: Direct (not recommended for sharing)\n",
    "# api_key = \"sk-your-api-key-here\"\n",
    "\n",
    "# Option 2: From environment variable\n",
    "api_key = os.getenv(\"OPENAI_API_KEY\")\n",
    "\n",
    "# Option 3: Interactive input\n",
    "if not api_key:\n",
    "    import getpass\n",
    "    api_key = getpass.getpass(\"Enter your OpenAI API key: \")\n",
    "\n",
    "# Initialize the agent\n",
    "print(\"Initializing Wafer Clustering Agent...\")\n",
    "agent = WaferClusteringAgent(api_key)\n",
    "print(\"✅ Agent ready!\")"
   ]
  },
  {
   "cell_type": "markdown",
   "metadata": {},
   "source": [
    "## 3. Load Data\n",
    "\n",
    "You can either:\n",
    "- Generate synthetic data for testing\n",
    "- Load your own CSV file"
   ]
  },
  {
   "cell_type": "code",
   "execution_count": null,
   "metadata": {},
   "outputs": [],
   "source": [
    "# Option 1: Generate synthetic data\n",
    "print(\"Generating synthetic wafer data...\")\n",
    "df = agent.generate_synthetic_data(n_wafers=500)\n",
    "agent.load_data(df)\n",
    "\n",
    "print(f\"\\n📊 Generated {len(df)} wafers with {len(df.columns)} features\")\n",
    "print(f\"\\nFeatures: {list(df.columns)}\")\n",
    "print(f\"\\nFirst 5 rows:\")\n",
    "df.head()"
   ]
  },
  {
   "cell_type": "code",
   "execution_count": null,
   "metadata": {},
   "outputs": [],
   "source": [
    "# Option 2: Load your own CSV (uncomment to use)\n",
    "# df = pd.read_csv(\"your_wafer_data.csv\")\n",
    "# agent.load_data(df)\n",
    "# print(f\"Loaded {len(df)} wafers\")"
   ]
  },
  {
   "cell_type": "markdown",
   "metadata": {},
   "source": [
    "## 4. Basic Data Exploration"
   ]
  },
  {
   "cell_type": "code",
   "execution_count": null,
   "metadata": {},
   "outputs": [],
   "source": [
    "# Quick data visualization\n",
    "fig, axes = plt.subplots(2, 2, figsize=(12, 8))\n",
    "\n",
    "# Yield distribution\n",
    "if 'Yield_%' in df.columns:\n",
    "    df['Yield_%'].hist(bins=30, ax=axes[0,0], edgecolor='black')\n",
    "    axes[0,0].set_title('Yield Distribution')\n",
    "    axes[0,0].set_xlabel('Yield %')\n",
    "\n",
    "# Defect density distribution\n",
    "if 'Defect_Density' in df.columns:\n",
    "    df['Defect_Density'].hist(bins=30, ax=axes[0,1], edgecolor='black')\n",
    "    axes[0,1].set_title('Defect Density Distribution')\n",
    "    axes[0,1].set_xlabel('Defect Density')\n",
    "\n",
    "# Yield vs Defects scatter\n",
    "if 'Yield_%' in df.columns and 'Defect_Density' in df.columns:\n",
    "    axes[1,0].scatter(df['Defect_Density'], df['Yield_%'], alpha=0.5)\n",
    "    axes[1,0].set_xlabel('Defect Density')\n",
    "    axes[1,0].set_ylabel('Yield %')\n",
    "    axes[1,0].set_title('Yield vs Defects')\n",
    "\n",
    "# Feature correlation\n",
    "numeric_cols = df.select_dtypes(include=[np.number]).columns[:5]\n",
    "corr = df[numeric_cols].corr()\n",
    "im = axes[1,1].imshow(corr, cmap='coolwarm', vmin=-1, vmax=1)\n",
    "axes[1,1].set_title('Feature Correlation')\n",
    "plt.colorbar(im, ax=axes[1,1])\n",
    "\n",
    "plt.tight_layout()\n",
    "plt.show()"
   ]
  },
  {
   "cell_type": "markdown",
   "metadata": {},
   "source": [
    "## 5. Natural Language Analysis\n",
    "\n",
    "Now let's analyze the data using natural language queries:"
   ]
  },
  {
   "cell_type": "code",
   "execution_count": null,
   "metadata": {},
   "outputs": [],
   "source": [
    "# Query 1: Basic data overview\n",
    "query = \"What does my wafer data look like? Give me a summary of the key features.\"\n",
    "print(f\"🔍 Query: {query}\\n\")\n",
    "response = agent.analyze(query)\n",
    "print(response)"
   ]
  },
  {
   "cell_type": "code",
   "execution_count": null,
   "metadata": {},
   "outputs": [],
   "source": [
    "# Query 2: Find optimal clusters\n",
    "query = \"Find the optimal number of clusters for this wafer dataset\"\n",
    "print(f\"🔍 Query: {query}\\n\")\n",
    "response = agent.analyze(query)\n",
    "print(response)"
   ]
  },
  {
   "cell_type": "code",
   "execution_count": null,
   "metadata": {},
   "outputs": [],
   "source": [
    "# Query 3: Apply clustering\n",
    "query = \"Apply k-means clustering with 4 clusters and tell me about each cluster\"\n",
    "print(f\"🔍 Query: {query}\\n\")\n",
    "response = agent.analyze(query)\n",
    "print(response)"
   ]
  },
  {
   "cell_type": "code",
   "execution_count": null,
   "metadata": {},
   "outputs": [],
   "source": [
    "# Query 4: Business insights\n",
    "query = \"Which cluster has the best yield? What makes it different from the worst cluster?\"\n",
    "print(f\"🔍 Query: {query}\\n\")\n",
    "response = agent.analyze(query)\n",
    "print(response)"
   ]
  },
  {
   "cell_type": "code",
   "execution_count": null,
   "metadata": {},
   "outputs": [],
   "source": [
    "# Query 5: Outlier detection\n",
    "query = \"Are there any outlier wafers I should investigate?\"\n",
    "print(f\"🔍 Query: {query}\\n\")\n",
    "response = agent.analyze(query)\n",
    "print(response)"
   ]
  },
  {
   "cell_type": "markdown",
   "metadata": {},
   "source": [
    "## 6. Visualize Clustering Results"
   ]
  },
  {
   "cell_type": "code",
   "execution_count": null,
   "metadata": {},
   "outputs": [],
   "source": [
    "# Create PCA visualization\n",
    "query = \"Create a PCA visualization of the clustering results\"\n",
    "print(f\"🔍 Query: {query}\\n\")\n",
    "response = agent.analyze(query)\n",
    "print(response)"
   ]
  },
  {
   "cell_type": "markdown",
   "metadata": {},
   "source": [
    "## 7. Export Results"
   ]
  },
  {
   "cell_type": "code",
   "execution_count": null,
   "metadata": {},
   "outputs": [],
   "source": [
    "# Get cluster labels if available\n",
    "if agent.current_labels is not None:\n",
    "    # Add cluster labels to dataframe\n",
    "    results_df = df.copy()\n",
    "    results_df['Cluster'] = agent.current_labels\n",
    "    \n",
    "    # Show cluster distribution\n",
    "    print(\"Cluster Distribution:\")\n",
    "    print(results_df['Cluster'].value_counts().sort_index())\n",
    "    \n",
    "    # Save results\n",
    "    results_df.to_csv('clustered_wafers.csv', index=False)\n",
    "    print(\"\\n✅ Results saved to 'clustered_wafers.csv'\")\n",
    "    \n",
    "    # Show sample of each cluster\n",
    "    print(\"\\nSample wafers from each cluster:\")\n",
    "    for cluster in sorted(results_df['Cluster'].unique()):\n",
    "        if cluster != -1:  # Skip noise points\n",
    "            print(f\"\\nCluster {cluster}:\")\n",
    "            print(results_df[results_df['Cluster'] == cluster].head(3)[['Wafer_ID', 'Yield_%', 'Defect_Density']])\n",
    "else:\n",
    "    print(\"No clustering results available yet. Run clustering analysis first.\")"
   ]
  },
  {
   "cell_type": "markdown",
   "metadata": {},
   "source": [
    "## 8. Interactive Analysis\n",
    "\n",
    "Try your own queries:"
   ]
  },
  {
   "cell_type": "code",
   "execution_count": null,
   "metadata": {},
   "outputs": [],
   "source": [
    "# Interactive query cell - modify the query and run!\n",
    "your_query = \"What process parameters correlate most strongly with high yield?\"\n",
    "\n",
    "print(f\"🔍 Your Query: {your_query}\\n\")\n",
    "response = agent.analyze(your_query)\n",
    "print(response)"
   ]
  },
  {
   "cell_type": "markdown",
   "metadata": {},
   "source": [
    "## 9. Launch Full UI (Optional)\n",
    "\n",
    "For a complete interactive experience with more features:"
   ]
  },
  {
   "cell_type": "code",
   "execution_count": null,
   "metadata": {},
   "outputs": [],
   "source": [
    "# Launch Gradio UI (if not in Colab)\n",
    "if 'google.colab' not in sys.modules:\n",
    "    from src.ui import create_gradio_interface\n",
    "    \n",
    "    print(\"Launching Gradio UI...\")\n",
    "    demo = create_gradio_interface()\n",
    "    demo.launch(share=True)\n",
    "else:\n",
    "    print(\"To use the full UI in Colab, run the main notebook: Wafer_Clustering_Demo.ipynb\")"
   ]
  },
  {
   "cell_type": "markdown",
   "metadata": {},
   "source": [
    "## Summary\n",
    "\n",
    "You've learned how to:\n",
    "1. ✅ Initialize the Wafer Clustering Agent\n",
    "2. ✅ Load or generate wafer data\n",
    "3. ✅ Analyze data using natural language\n",
    "4. ✅ Apply various clustering algorithms\n",
    "5. ✅ Get insights about clusters\n",
    "6. ✅ Export results for further analysis\n",
    "\n",
    "## Next Steps\n",
    "\n",
    "- Try different clustering algorithms (DBSCAN, Hierarchical, GMM)\n",
    "- Compare multiple algorithms to find the best one\n",
    "- Analyze your own wafer data\n",
    "- Use the full Gradio UI for more interactive analysis\n",
    "- Check the [API Reference](../docs/api_reference.md) for advanced usage\n",
    "\n",
    "## Example Queries to Try\n",
    "\n",
    "- \"Compare k-means and DBSCAN clustering on this data\"\n",
    "- \"What's the optimal number of clusters using both elbow and silhouette methods?\"\n",
    "- \"Which features are most important for distinguishing between clusters?\"\n",
    "- \"Create a detailed report on cluster characteristics\"\n",
    "- \"Identify the top 10 worst performing wafers\"\n",
    "\n",
    "Happy analyzing! 🚀"
   ]
  }
 ],
 "metadata": {
  "kernelspec": {
   "display_name": "Python 3",
   "language": "python",
   "name": "python3"
  },
  "language_info": {
   "codemirror_mode": {
    "name": "ipython",
    "version": 3
   },
   "file_extension": ".py",
   "mimetype": "text/x-python",
   "name": "python",
   "nbconvert_exporter": "python",
   "pygments_lexer": "ipython3",
   "version": "3.8.0"
  }
 },
 "nbformat": 4,
 "nbformat_minor": 4
}